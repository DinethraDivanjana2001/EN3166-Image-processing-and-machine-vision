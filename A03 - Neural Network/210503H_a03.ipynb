{
 "cells": [
  {
   "cell_type": "markdown",
   "metadata": {},
   "source": [
    "# Neural Networks"
   ]
  },
  {
   "cell_type": "markdown",
   "metadata": {},
   "source": [
    "#### 210503H                           \n",
    "#### I.P.D.D.Rajapaksha"
   ]
  },
  {
   "cell_type": "code",
   "execution_count": 6,
   "metadata": {},
   "outputs": [
    {
     "name": "stdout",
     "output_type": "stream",
     "text": [
      "Requirement already satisfied: torch in c:\\users\\user\\appdata\\local\\programs\\python\\python310\\lib\\site-packages (2.5.1)\n",
      "Requirement already satisfied: filelock in c:\\users\\user\\appdata\\local\\programs\\python\\python310\\lib\\site-packages (from torch) (3.16.1)\n",
      "Requirement already satisfied: typing-extensions>=4.8.0 in c:\\users\\user\\appdata\\local\\programs\\python\\python310\\lib\\site-packages (from torch) (4.12.2)\n",
      "Requirement already satisfied: networkx in c:\\users\\user\\appdata\\local\\programs\\python\\python310\\lib\\site-packages (from torch) (3.3)\n",
      "Requirement already satisfied: jinja2 in c:\\users\\user\\appdata\\local\\programs\\python\\python310\\lib\\site-packages (from torch) (3.1.2)\n",
      "Requirement already satisfied: fsspec in c:\\users\\user\\appdata\\local\\programs\\python\\python310\\lib\\site-packages (from torch) (2024.10.0)\n",
      "Requirement already satisfied: sympy==1.13.1 in c:\\users\\user\\appdata\\local\\programs\\python\\python310\\lib\\site-packages (from torch) (1.13.1)\n",
      "Requirement already satisfied: mpmath<1.4,>=1.1.0 in c:\\users\\user\\appdata\\local\\programs\\python\\python310\\lib\\site-packages (from sympy==1.13.1->torch) (1.3.0)\n",
      "Requirement already satisfied: MarkupSafe>=2.0 in c:\\users\\user\\appdata\\local\\programs\\python\\python310\\lib\\site-packages (from jinja2->torch) (2.1.1)\n"
     ]
    },
    {
     "name": "stderr",
     "output_type": "stream",
     "text": [
      "\n",
      "[notice] A new release of pip is available: 24.1 -> 24.3.1\n",
      "[notice] To update, run: python.exe -m pip install --upgrade pip\n"
     ]
    },
    {
     "name": "stdout",
     "output_type": "stream",
     "text": [
      "Collecting torchvision\n",
      "  Downloading torchvision-0.20.1-cp310-cp310-win_amd64.whl.metadata (6.2 kB)\n",
      "Requirement already satisfied: numpy in c:\\users\\user\\appdata\\local\\programs\\python\\python310\\lib\\site-packages (from torchvision) (1.24.2)\n",
      "Requirement already satisfied: torch==2.5.1 in c:\\users\\user\\appdata\\local\\programs\\python\\python310\\lib\\site-packages (from torchvision) (2.5.1)\n",
      "Requirement already satisfied: pillow!=8.3.*,>=5.3.0 in c:\\users\\user\\appdata\\local\\programs\\python\\python310\\lib\\site-packages (from torchvision) (9.4.0)\n",
      "Requirement already satisfied: filelock in c:\\users\\user\\appdata\\local\\programs\\python\\python310\\lib\\site-packages (from torch==2.5.1->torchvision) (3.16.1)\n",
      "Requirement already satisfied: typing-extensions>=4.8.0 in c:\\users\\user\\appdata\\local\\programs\\python\\python310\\lib\\site-packages (from torch==2.5.1->torchvision) (4.12.2)\n",
      "Requirement already satisfied: networkx in c:\\users\\user\\appdata\\local\\programs\\python\\python310\\lib\\site-packages (from torch==2.5.1->torchvision) (3.3)\n",
      "Requirement already satisfied: jinja2 in c:\\users\\user\\appdata\\local\\programs\\python\\python310\\lib\\site-packages (from torch==2.5.1->torchvision) (3.1.2)\n",
      "Requirement already satisfied: fsspec in c:\\users\\user\\appdata\\local\\programs\\python\\python310\\lib\\site-packages (from torch==2.5.1->torchvision) (2024.10.0)\n",
      "Requirement already satisfied: sympy==1.13.1 in c:\\users\\user\\appdata\\local\\programs\\python\\python310\\lib\\site-packages (from torch==2.5.1->torchvision) (1.13.1)\n",
      "Requirement already satisfied: mpmath<1.4,>=1.1.0 in c:\\users\\user\\appdata\\local\\programs\\python\\python310\\lib\\site-packages (from sympy==1.13.1->torch==2.5.1->torchvision) (1.3.0)\n",
      "Requirement already satisfied: MarkupSafe>=2.0 in c:\\users\\user\\appdata\\local\\programs\\python\\python310\\lib\\site-packages (from jinja2->torch==2.5.1->torchvision) (2.1.1)\n",
      "Downloading torchvision-0.20.1-cp310-cp310-win_amd64.whl (1.6 MB)\n",
      "   ---------------------------------------- 1.6/1.6 MB 2.4 MB/s eta 0:00:00\n",
      "Installing collected packages: torchvision\n",
      "Successfully installed torchvision-0.20.1\n"
     ]
    },
    {
     "name": "stderr",
     "output_type": "stream",
     "text": [
      "\n",
      "[notice] A new release of pip is available: 24.1 -> 24.3.1\n",
      "[notice] To update, run: python.exe -m pip install --upgrade pip\n"
     ]
    }
   ],
   "source": [
    "!pip install torch\n",
    "!pip install torchvision\n"
   ]
  },
  {
   "cell_type": "markdown",
   "metadata": {},
   "source": [
    "#### Listing 1"
   ]
  },
  {
   "cell_type": "code",
   "execution_count": 7,
   "metadata": {},
   "outputs": [
    {
     "name": "stdout",
     "output_type": "stream",
     "text": [
      "Downloading https://www.cs.toronto.edu/~kriz/cifar-10-python.tar.gz to ./data\\cifar-10-python.tar.gz\n"
     ]
    },
    {
     "name": "stderr",
     "output_type": "stream",
     "text": [
      "100.0%\n"
     ]
    },
    {
     "name": "stdout",
     "output_type": "stream",
     "text": [
      "Extracting ./data\\cifar-10-python.tar.gz to ./data\n",
      "Files already downloaded and verified\n",
      "Epoch 1/20, Loss: 0.9769290246963501\n",
      "Epoch 2/20, Loss: 0.9498206155896187\n",
      "Epoch 3/20, Loss: 0.9360823971033096\n",
      "Epoch 4/20, Loss: 0.9275327330827713\n",
      "Epoch 5/20, Loss: 0.9215981885194778\n",
      "Epoch 6/20, Loss: 0.9171971751451492\n",
      "Epoch 7/20, Loss: 0.9137861201167107\n",
      "Epoch 8/20, Loss: 0.9110605976581574\n",
      "Epoch 9/20, Loss: 0.9088332299590111\n",
      "Epoch 10/20, Loss: 0.906981387257576\n",
      "Epoch 11/20, Loss: 0.9054218543171882\n",
      "Epoch 12/20, Loss: 0.9040946851372719\n",
      "Epoch 13/20, Loss: 0.902956613600254\n",
      "Epoch 14/20, Loss: 0.9019737314581872\n",
      "Epoch 15/20, Loss: 0.901119857609272\n",
      "Epoch 16/20, Loss: 0.900374957382679\n",
      "Epoch 17/20, Loss: 0.8997224988341331\n",
      "Epoch 18/20, Loss: 0.8991492050290107\n",
      "Epoch 19/20, Loss: 0.8986438111066818\n",
      "Epoch 20/20, Loss: 0.898197353899479\n"
     ]
    },
    {
     "data": {
      "image/png": "[encoded data removed]",
      "text/plain": [
       "<Figure size 432x288 with 1 Axes>"
      ]
     },
     "metadata": {
      "needs_background": "light"
     },
     "output_type": "display_data"
    },
    {
     "name": "stdout",
     "output_type": "stream",
     "text": [
      "Training accuracy: 32.21%\n",
      "Test accuracy: 32.42%\n"
     ]
    }
   ],
   "source": [
    "import torch\n",
    "import torch.nn as nn\n",
    "import torch.optim as optim\n",
    "import torchvision\n",
    "import torchvision.transforms as transforms\n",
    "import matplotlib.pyplot as plt\n",
    "\n",
    "# 1. Dataloading\n",
    "transform = transforms.Compose(\n",
    "    [transforms.ToTensor(),\n",
    "     transforms.Normalize((0.5, 0.5, 0.5), (0.5, 0.5, 0.5))])\n",
    "batch_size = 50\n",
    "trainset = torchvision.datasets.CIFAR10(root='./data', train=True, download=True, transform=transform)\n",
    "trainloader = torch.utils.data.DataLoader(trainset, batch_size=batch_size, shuffle=True, num_workers=2)\n",
    "testset = torchvision.datasets.CIFAR10(root='./data', train=False, download=True, transform=transform)\n",
    "testloader = torch.utils.data.DataLoader(testset, batch_size=batch_size, shuffle=False, num_workers=2)\n",
    "classes = ('plane', 'car', 'bird', 'cat', 'deer', 'dog', 'frog', 'horse', 'ship', 'truck')\n",
    "\n",
    "# 2. Define Network Parameters\n",
    "Din = 3 * 32 * 32  # Input size (flattened CIFAR-10 image size)\n",
    "K = 10  # Output size (number of classes in CIFAR-10)\n",
    "std = 1e-5\n",
    "\n",
    "# Initialize weights and biases\n",
    "w = torch.randn(Din, K) * std  # One layer: directly map input to output\n",
    "b = torch.zeros(K)\n",
    "\n",
    "# Hyperparameters\n",
    "iterations = 20\n",
    "lr = 2e-6  # Learning rate\n",
    "lr_decay = 0.9  # Learning rate decay\n",
    "reg = 0  # Regularization\n",
    "loss_history = []\n",
    "\n",
    "# 3. Training Loop\n",
    "for t in range(iterations):\n",
    "    running_loss = 0.0\n",
    "    for i, data in enumerate(trainloader, 0):\n",
    "        # Get inputs and labels\n",
    "        inputs, labels = data\n",
    "        Ntr = inputs.shape[0]  # Batch size\n",
    "        x_train = inputs.view(Ntr, -1)  # Flatten input to (Ntr, Din)\n",
    "        y_train_onehot = nn.functional.one_hot(labels, K).float()  # Convert labels to one-hot encoding\n",
    "\n",
    "        # Forward pass\n",
    "        y_pred = x_train.mm(w) + b  # Output layer activation\n",
    "\n",
    "        # Loss calculation (Mean Squared Error with regularization)\n",
    "        loss = (1 / Ntr) * torch.sum((y_pred - y_train_onehot) ** 2) + reg * torch.sum(w ** 2)\n",
    "        loss_history.append(loss.item())\n",
    "        running_loss += loss.item()\n",
    "\n",
    "        # Backpropagation\n",
    "        dy_pred = (2.0 / Ntr) * (y_pred - y_train_onehot)\n",
    "        dw = x_train.t().mm(dy_pred) + reg * w\n",
    "        db = dy_pred.sum(dim=0)\n",
    "\n",
    "        # Parameter update\n",
    "        w -= lr * dw\n",
    "        b -= lr * db\n",
    "\n",
    "    # Print loss for every epoch\n",
    "    if t % 1 == 0:\n",
    "        print(f\"Epoch {t + 1}/{iterations}, Loss: {running_loss / len(trainloader)}\")\n",
    "\n",
    "    # Learning rate decay\n",
    "    lr *= lr_decay\n",
    "\n",
    "# 4. Plotting the Loss History\n",
    "plt.plot(loss_history)\n",
    "plt.title(\"Loss History\")\n",
    "plt.xlabel(\"Iteration\")\n",
    "plt.ylabel(\"Loss\")\n",
    "plt.show()\n",
    "\n",
    "# 5. Calculate Accuracy on Training Set\n",
    "correct_train = 0\n",
    "total_train = 0\n",
    "with torch.no_grad():\n",
    "    for data in trainloader:\n",
    "        inputs, labels = data\n",
    "        Ntr = inputs.shape[0]\n",
    "        x_train = inputs.view(Ntr, -1)\n",
    "        y_train_onehot = nn.functional.one_hot(labels, K).float()\n",
    "\n",
    "        # Forward pass\n",
    "        y_train_pred = x_train.mm(w) + b\n",
    "        predicted_train = torch.argmax(y_train_pred, dim=1)\n",
    "        total_train += labels.size(0)\n",
    "        correct_train += (predicted_train == labels).sum().item()\n",
    "\n",
    "train_acc = 100 * correct_train / total_train\n",
    "print(f\"Training accuracy: {train_acc:.2f}%\")\n",
    "\n",
    "# 6. Calculate Accuracy on Test Set\n",
    "correct_test = 0\n",
    "total_test = 0\n",
    "with torch.no_grad():\n",
    "    for data in testloader:\n",
    "        inputs, labels = data\n",
    "        Nte = inputs.shape[0]\n",
    "        x_test = inputs.view(Nte, -1)\n",
    "        y_test_onehot = nn.functional.one_hot(labels, K).float()\n",
    "\n",
    "        # Forward pass\n",
    "        y_test_pred = x_test.mm(w) + b\n",
    "        predicted_test = torch.argmax(y_test_pred, dim=1)\n",
    "        total_test += labels.size(0)\n",
    "        correct_test += (predicted_test == labels).sum().item()\n",
    "\n",
    "test_acc = 100 * correct_test / total_test\n",
    "print(f\"Test accuracy: {test_acc:.2f}%\")\n"
   ]
  },
  {
   "cell_type": "markdown",
   "metadata": {},
   "source": [
    "#### Add a middle layer with 100 nodes and a sigmoid activation"
   ]
  },
  {
   "cell_type": "code",
   "execution_count": 8,
   "metadata": {},
   "outputs": [
    {
     "name": "stdout",
     "output_type": "stream",
     "text": [
      "Files already downloaded and verified\n",
      "Files already downloaded and verified\n",
      "Epoch 1/20, Loss: 0.990307021200657\n",
      "Epoch 2/20, Loss: 0.9740879511833191\n",
      "Epoch 3/20, Loss: 0.9619989691376686\n",
      "Epoch 4/20, Loss: 0.9528162389993667\n",
      "Epoch 5/20, Loss: 0.9457215040922164\n",
      "Epoch 6/20, Loss: 0.9401554464697838\n",
      "Epoch 7/20, Loss: 0.9357281966209412\n",
      "Epoch 8/20, Loss: 0.9321629281044006\n",
      "Epoch 9/20, Loss: 0.9292596077919006\n",
      "Epoch 10/20, Loss: 0.9268715609908104\n",
      "Epoch 11/20, Loss: 0.9248895650506019\n",
      "Epoch 12/20, Loss: 0.923231132030487\n",
      "Epoch 13/20, Loss: 0.9218332878947259\n",
      "Epoch 14/20, Loss: 0.9206473633646965\n",
      "Epoch 15/20, Loss: 0.9196352431178093\n",
      "Epoch 16/20, Loss: 0.9187668538093567\n",
      "Epoch 17/20, Loss: 0.9180182052254677\n",
      "Epoch 18/20, Loss: 0.91737002825737\n",
      "Epoch 19/20, Loss: 0.9168066415190697\n",
      "Epoch 20/20, Loss: 0.9163152393102646\n"
     ]
    },
    {
     "data": {
      "image/png": "[encoded data removed]",
      "text/plain": [
       "<Figure size 432x288 with 1 Axes>"
      ]
     },
     "metadata": {
      "needs_background": "light"
     },
     "output_type": "display_data"
    },
    {
     "name": "stdout",
     "output_type": "stream",
     "text": [
      "Training accuracy: 10.00%\n",
      "Test accuracy: 10.00%\n"
     ]
    }
   ],
   "source": [
    "import torch\n",
    "import torch.nn as nn\n",
    "import torch.optim as optim\n",
    "import torchvision\n",
    "import torchvision.transforms as transforms\n",
    "import matplotlib.pyplot as plt\n",
    "\n",
    "# 1. Dataloading\n",
    "transform = transforms.Compose([\n",
    "    transforms.ToTensor(),\n",
    "    transforms.Normalize((0.5, 0.5, 0.5), (0.5, 0.5, 0.5))\n",
    "])\n",
    "batch_size = 50\n",
    "trainset = torchvision.datasets.CIFAR10(root='./data', train=True, download=True, transform=transform)\n",
    "trainloader = torch.utils.data.DataLoader(trainset, batch_size=batch_size, shuffle=True, num_workers=2)\n",
    "testset = torchvision.datasets.CIFAR10(root='./data', train=False, download=True, transform=transform)\n",
    "testloader = torch.utils.data.DataLoader(testset, batch_size=batch_size, shuffle=False, num_workers=2)\n",
    "\n",
    "# 2. Define Network Parameters\n",
    "Din = 3 * 32 * 32  # Input size\n",
    "H = 100  # Middle layer size\n",
    "K = 10   # Output size\n",
    "std = 1e-5\n",
    "\n",
    "# Initialize weights and biases\n",
    "w1 = torch.randn(Din, H) * std  # Weights for input to middle layer\n",
    "b1 = torch.zeros(H)             # Biases for middle layer\n",
    "w2 = torch.randn(H, K) * std     # Weights for middle layer to output\n",
    "b2 = torch.zeros(K)              # Biases for output layer\n",
    "\n",
    "# Hyperparameters\n",
    "iterations = 20\n",
    "lr = 2e-6\n",
    "lr_decay = 0.9\n",
    "reg = 0\n",
    "loss_history = []\n",
    "\n",
    "# 3. Training Loop\n",
    "for t in range(iterations):\n",
    "    running_loss = 0.0\n",
    "    for i, data in enumerate(trainloader, 0):\n",
    "        inputs, labels = data\n",
    "        Ntr = inputs.shape[0]\n",
    "        x_train = inputs.view(Ntr, -1)\n",
    "        y_train_onehot = nn.functional.one_hot(labels, K).float()\n",
    "\n",
    "        # Forward pass\n",
    "        h = x_train.mm(w1) + b1  # Middle layer activation\n",
    "        h = torch.sigmoid(h)     # Sigmoid activation\n",
    "        y_pred = h.mm(w2) + b2   # Output layer activation\n",
    "\n",
    "        # Loss calculation\n",
    "        loss = (1 / Ntr) * torch.sum((y_pred - y_train_onehot) ** 2) + reg * (torch.sum(w1 ** 2) + torch.sum(w2 ** 2))\n",
    "        loss_history.append(loss.item())\n",
    "        running_loss += loss.item()\n",
    "\n",
    "        # Backpropagation\n",
    "        dy_pred = (2.0 / Ntr) * (y_pred - y_train_onehot)\n",
    "        dh = dy_pred.mm(w2.t()) * h * (1 - h)  # Backprop through sigmoid\n",
    "\n",
    "        # Gradient calculation\n",
    "        dw2 = h.t().mm(dy_pred) + reg * w2\n",
    "        db2 = dy_pred.sum(dim=0)\n",
    "        dw1 = x_train.t().mm(dh) + reg * w1\n",
    "        db1 = dh.sum(dim=0)\n",
    "\n",
    "        # Parameter update\n",
    "        w1 -= lr * dw1\n",
    "        b1 -= lr * db1\n",
    "        w2 -= lr * dw2\n",
    "        b2 -= lr * db2\n",
    "\n",
    "    # Print loss for every epoch\n",
    "    if t % 1 == 0:\n",
    "        print(f\"Epoch {t + 1}/{iterations}, Loss: {running_loss / len(trainloader)}\")\n",
    "\n",
    "    # Learning rate decay\n",
    "    lr *= lr_decay\n",
    "\n",
    "# 4. Plotting the Loss History\n",
    "plt.plot(loss_history)\n",
    "plt.title(\"Loss History\")\n",
    "plt.xlabel(\"Iteration\")\n",
    "plt.ylabel(\"Loss\")\n",
    "plt.show()\n",
    "\n",
    "# 5. Calculate Accuracy on Training Set\n",
    "correct_train = 0\n",
    "total_train = 0\n",
    "with torch.no_grad():\n",
    "    for data in trainloader:\n",
    "        inputs, labels = data\n",
    "        Ntr = inputs.shape[0]\n",
    "        x_train = inputs.view(Ntr, -1)\n",
    "        hidden_layer = torch.sigmoid(x_train.mm(w1) + b1)\n",
    "        y_train_pred = hidden_layer.mm(w2) + b2\n",
    "        predicted_train = torch.argmax(y_train_pred, dim=1)\n",
    "        total_train += labels.size(0)\n",
    "        correct_train += (predicted_train == labels).sum().item()\n",
    "train_acc = 100 * correct_train / total_train\n",
    "print(f\"Training accuracy: {train_acc:.2f}%\")\n",
    "\n",
    "# 6. Calculate Accuracy on Test Set\n",
    "correct_test = 0\n",
    "total_test = 0\n",
    "with torch.no_grad():\n",
    "    for data in testloader:\n",
    "        inputs, labels = data\n",
    "        Nte = inputs.shape[0]\n",
    "        x_test = inputs.view(Nte, -1)\n",
    "        hidden_layer = torch.sigmoid(x_test.mm(w1) + b1)\n",
    "        y_test_pred = hidden_layer.mm(w2) + b2\n",
    "        predicted_test = torch.argmax(y_test_pred, dim=1)\n",
    "        total_test += labels.size(0)\n",
    "        correct_test += (predicted_test == labels).sum().item()\n",
    "test_acc = 100 * correct_test / total_test\n",
    "print(f\"Test accuracy: {test_acc:.2f}%\")\n"
   ]
  }
 ],
 "metadata": {
  "kernelspec": {
   "display_name": "Python 3",
   "language": "python",
   "name": "python3"
  },
  "language_info": {
   "codemirror_mode": {
    "name": "ipython",
    "version": 3
   },
   "file_extension": ".py",
   "mimetype": "text/x-python",
   "name": "python",
   "nbconvert_exporter": "python",
   "pygments_lexer": "ipython3",
   "version": "3.10.5"
  }
 },
 "nbformat": 4,
 "nbformat_minor": 2
}
